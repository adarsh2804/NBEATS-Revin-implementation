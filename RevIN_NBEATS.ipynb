{
 "cells": [
  {
   "cell_type": "code",
   "execution_count": null,
   "metadata": {
    "id": "r4WU1UPMibEV"
   },
   "outputs": [],
   "source": [
    "!pip install nbeats_forecast"
   ]
  },
  {
   "cell_type": "code",
   "execution_count": null,
   "metadata": {
    "id": "q0lndpFnknD7"
   },
   "outputs": [],
   "source": [
    "# import packages\n",
    "\n",
    "import numpy as np\n",
    "import pandas as pd \n",
    "import seaborn as se \n",
    "import matplotlib.pyplot as plt \n",
    "import datetime\n",
    "import torch\n",
    "from nbeats_forecast import NBeats\n",
    "from torch import optim\n",
    "from sklearn.metrics import mean_absolute_error, mean_squared_error\n",
    "from RevIn import RevIN"
   ]
  },
  {
   "cell_type": "code",
   "execution_count": null,
   "metadata": {
    "id": "MtbYtIZlkm9i"
   },
   "outputs": [],
   "source": [
    "# split dataset into train/test datasets\n",
    "def train_test_split(data, n_test):\n",
    "    return data[:n_test], data[n_test:]\n",
    "\n",
    "# calculate MAPE\n",
    "def mean_absolute_percentage_error(y_true, y_pred): \n",
    "    y_true, y_pred = np.array(y_true), np.array(y_pred)\n",
    "    return np.mean(np.abs((y_true - y_pred) / y_true)) * 100"
   ]
  },
  {
   "cell_type": "code",
   "execution_count": null,
   "metadata": {
    "colab": {
     "base_uri": "https://localhost:8080/",
     "height": 123
    },
    "id": "wu--HRpxkm6Y",
    "outputId": "f36ba231-6283-4b1c-becd-cdfc041f88c9"
   },
   "outputs": [],
   "source": [
    "# dataset loading\n",
    "performance = {}\n",
    "for i in range(50):\n",
    "  data = pd.read_csv(f\"/content/dataset50/{i}.csv\",index_col = 0)\n",
    "\n",
    "  # converting numeric timestamps to datetime\n",
    "  data['timestamp'] = pd.to_datetime(data['timestamp'], unit='ms')\n",
    "  \n",
    "  # if all the values are same, then not normalizing\n",
    "  if data.value.nunique() == 1:\n",
    "    performance[f\"{i}.csv\"] = {\"MAE\":0, \"MSE\":0, \"RMSE\":0, \"MAPE\":0}\n",
    "    continue\n",
    "  \n",
    "  # normalizing the data using RevIN\n",
    "  layer = RevIN(len(data), affine=False)\n",
    "  x = torch.tensor(data['value'].values)\n",
    "\n",
    "  y = layer(x, mode='norm')\n",
    "\n",
    "  # Train-test split\n",
    "  size = int(len(data)*0.75) #75% training\n",
    "  train,val = train_test_split(y,size)\n",
    "\n",
    "  # model training\n",
    "  model = NBeats(data = train.detach().numpy().reshape((-1,1)), period_to_forecast=len(val), backcast_length=len(val))\n",
    "  model.fit(epoch=10,optimiser=optim.AdamW(model.parameters, lr=0.001, betas=(0.9, 0.999), eps=1e-08, weight_decay=0.01, amsgrad=False), plot=True)\n",
    "\n",
    "  prediction = model.predict(predict_data=val.detach().numpy().reshape((-1,1))) # predicting on the 25% test data\n",
    "\n",
    "  # denormalizing the data to calculate evaluation metrics\n",
    "  a = layer(torch.tensor(prediction), mode='denorm')\n",
    "  b = layer(torch.tensor(val), mode='denorm')\n",
    "\n",
    "  MAE = mean_absolute_error(b,a)\n",
    "  MSE = mean_squared_error(b,a)\n",
    "  RMSE = np.sqrt(mean_squared_error(b,a))\n",
    "  MAPE = mean_absolute_percentage_error(b,a)\n",
    "\n",
    "  # dictionary consisting perforance of forecast for each dataset\n",
    "  performance[f\"{i}.csv\"] = {\"MAE\":round(MAE,2), \"MSE\":round(MSE,2), \"RMSE\":round(RMSE,2), \"MAPE\":round(MAPE,2)}\n",
    "\n",
    "  # Forecast Plot and save in a directory\n",
    "  x = data.timestamp.values\n",
    "  y = data.value.values\n",
    "\n",
    "  plt.figure(figsize=(20, 5), dpi=80)\n",
    "  plt.plot(x,y,label=\"original\")\n",
    "  plt.plot(x[len(train):],a,label=\"prediction\")\n",
    "  plt.xlabel(\"Timestamp\")\n",
    "  plt.ylabel(\"Value\")\n",
    "  plt.legend([\"original\", \"prediction\"], loc =\"lower right\")\n",
    "  plt.savefig(f'/content/plots/{i}.png')\n",
    "\n",
    "# saving the performance of each dataset as csv\n",
    "pd.DataFrame(performance).T.to_csv('performance.csv')"
   ]
  }
 ],
 "metadata": {
  "colab": {
   "collapsed_sections": [],
   "provenance": []
  },
  "kernelspec": {
   "display_name": "Python 3",
   "language": "python",
   "name": "python3"
  },
  "language_info": {
   "codemirror_mode": {
    "name": "ipython",
    "version": 3
   },
   "file_extension": ".py",
   "mimetype": "text/x-python",
   "name": "python",
   "nbconvert_exporter": "python",
   "pygments_lexer": "ipython3",
   "version": "3.8.5"
  }
 },
 "nbformat": 4,
 "nbformat_minor": 1
}
